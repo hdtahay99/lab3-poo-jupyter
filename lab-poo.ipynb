{
 "cells": [
  {
   "cell_type": "markdown",
   "metadata": {},
   "source": [
    "# Hoja de trabajo #3"
   ]
  },
  {
   "cell_type": "code",
   "execution_count": 1,
   "metadata": {},
   "outputs": [
    {
     "data": {
      "text/plain": [
       "['Initialized empty Git repository in C:/Users/hdtah/Documents/Master in Data Science/Data science in python/laboratorio-3/.git/']"
      ]
     },
     "execution_count": 1,
     "metadata": {},
     "output_type": "execute_result"
    }
   ],
   "source": [
    "%%!\n",
    "git init"
   ]
  },
  {
   "cell_type": "code",
   "execution_count": 33,
   "metadata": {},
   "outputs": [],
   "source": [
    "# dataX = []\n",
    "# dataY = []\n",
    "# with open ('Advertising.csv') as values:\n",
    "#     for value in values:\n",
    "#         temp = value.split(',')\n",
    "#         if temp[0] != 'Y' and temp[1] != 'X':\n",
    "#             dataY.append(temp[0])\n",
    "#             dataX.append(temp[1].split('\\n')[0])"
   ]
  },
  {
   "cell_type": "code",
   "execution_count": 173,
   "metadata": {},
   "outputs": [],
   "source": [
    "class my_regresion:\n",
    "    \"\"\"A regression is made up of the X and Y values, \n",
    "    and their coefficients of a linear regression B0 and B1\"\"\"\n",
    "    \n",
    "    \n",
    "    def __init__(self, x, y):\n",
    "        \"\"\"Constructor where initial values are set\"\"\"\n",
    "        self.beta0, self.beta1, self.sum_y = self.get_beta01(x, y)\n",
    "        self.x     = x\n",
    "        self.y     = y\n",
    "        \n",
    "        \n",
    "    def get_beta01(self, x, y):\n",
    "        \"\"\"Handler that extracts the values for beta0 and beta1\"\"\"\n",
    "        if len(x) == len(y):\n",
    "            xy      = 0\n",
    "            sum_x   = 0\n",
    "            sum_y   = 0\n",
    "            sum_xx  = 0\n",
    "            sum_xxy = 0\n",
    "            \n",
    "            \n",
    "            for i in range(len(x)):\n",
    "                xy      = xy + float(x[i])*float(y[i])\n",
    "                sum_x   = sum_x + float(x[i])\n",
    "                sum_y   = sum_y + float(y[i])\n",
    "                sum_xx  = sum_xx + float(x[i])**2\n",
    "                sum_xxy = sum_xxy + ((float(x[i])**2)*float(y[i]))\n",
    "                \n",
    "                \n",
    "            tempB1 = ((len(x)*xy) - (sum_x * sum_y)) / ((len(x)*(sum_xx)) - (sum_x)**2)\n",
    "            tempB0 = (sum_y/len(x))-(tempB1 * (sum_x/len(x)))\n",
    "            return tempB0, tempB1, sum_y\n",
    "        \n",
    "        \n",
    "    def predict(self, val):\n",
    "        \"\"\"Returns the predicted value of the parameter given in the function\"\"\"\n",
    "        return (self.beta0) + float(self.beta1)*float(val)\n",
    "        \n",
    "    \n",
    "    \n",
    "    def predictN(self, vals):\n",
    "        \"\"\"Returns the predicted values of the parameter list given in the function\"\"\"\n",
    "        y = []\n",
    "        for i in vals:\n",
    "            temp = (self.beta0) + float(self.beta1)*float(i)\n",
    "            y.append(temp)\n",
    "        return y\n",
    "\n",
    "    \n",
    "    \n",
    "    def r2(self):\n",
    "        \"\"\"Handle that given the r2\"\"\"\n",
    "        sy_c = 0\n",
    "        sy   = 0\n",
    "        \n",
    "        for i in self.x:\n",
    "            sy_c = sy_c + (self.predict(i) - (float(self.sum_y)/len(self.x) ))**2\n",
    "        \n",
    "        for i in self.y:\n",
    "            sy   = sy + (float(i) - (float(self.sum_y)/len(self.x)))**2\n",
    "        \n",
    "        return (sy_c/(len(self.x) -1)) / (sy/(len(self.x) -1))\n",
    "    \n",
    "    \n",
    "    def r(self):\n",
    "        return (self.r2())**(1/2)\n",
    "    \n",
    "    \n",
    "    def getAllParams(self):\n",
    "        return {'b0': self.beta0, 'b1': self.beta1, 'r2': self.r2(), 'r': self.r()}\n",
    "    \n",
    "    \n",
    "    @classmethod\n",
    "    def from_file(cls, fileName):\n",
    "        \"\"\"Constructor where csv file is read,\n",
    "        and the list of X and Y values are extracted\"\"\"\n",
    "        dataX = []\n",
    "        dataY = []\n",
    "        with open(fileName) as values:\n",
    "            for value in values:\n",
    "                temp = value.split(',')\n",
    "                if temp[0] != 'Y' and temp[1] != 'X':\n",
    "                    dataY.append(temp[0])\n",
    "                    dataX.append(temp[1].split('\\n')[0])\n",
    "        return cls(dataX, dataY)"
   ]
  },
  {
   "cell_type": "code",
   "execution_count": 174,
   "metadata": {},
   "outputs": [
    {
     "name": "stdout",
     "output_type": "stream",
     "text": [
      "0.9692307692307695\n",
      "0.9844951849708405\n"
     ]
    },
    {
     "data": {
      "text/plain": [
       "{'b0': -1.0, 'b1': 2.1, 'r2': 0.9692307692307695, 'r': 0.9844951849708405}"
      ]
     },
     "execution_count": 174,
     "metadata": {},
     "output_type": "execute_result"
    }
   ],
   "source": [
    "regression = my_regresion.from_file('prueba2.csv')\n",
    "print(regression.r2())\n",
    "print(regression.r())\n",
    "regression.getAllParams()"
   ]
  },
  {
   "cell_type": "code",
   "execution_count": null,
   "metadata": {},
   "outputs": [],
   "source": []
  }
 ],
 "metadata": {
  "kernelspec": {
   "display_name": "Python 3",
   "language": "python",
   "name": "python3"
  },
  "language_info": {
   "codemirror_mode": {
    "name": "ipython",
    "version": 3
   },
   "file_extension": ".py",
   "mimetype": "text/x-python",
   "name": "python",
   "nbconvert_exporter": "python",
   "pygments_lexer": "ipython3",
   "version": "3.8.5"
  }
 },
 "nbformat": 4,
 "nbformat_minor": 4
}
