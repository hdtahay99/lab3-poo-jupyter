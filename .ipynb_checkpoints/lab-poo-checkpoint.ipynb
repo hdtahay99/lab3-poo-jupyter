{
 "cells": [
  {
   "cell_type": "markdown",
   "metadata": {},
   "source": [
    "# Hoja de trabajo #3"
   ]
  },
  {
   "cell_type": "code",
   "execution_count": 1,
   "metadata": {},
   "outputs": [
    {
     "data": {
      "text/plain": [
       "['Initialized empty Git repository in C:/Users/hdtah/Documents/Master in Data Science/Data science in python/laboratorio-3/.git/']"
      ]
     },
     "execution_count": 1,
     "metadata": {},
     "output_type": "execute_result"
    }
   ],
   "source": [
    "%%!\n",
    "git init"
   ]
  },
  {
   "cell_type": "code",
   "execution_count": 173,
   "metadata": {},
   "outputs": [],
   "source": [
    "class my_regresion:\n",
    "    \"\"\"A regression is made up of the X and Y values, \n",
    "    and their coefficients of a linear regression B0 and B1\"\"\"\n",
    "    \n",
    "    \n",
    "    def __init__(self, x, y):\n",
    "        \"\"\"Constructor where initial values are set\"\"\"\n",
    "        self.beta0, self.beta1, self.sum_y = self.get_beta01(x, y)\n",
    "        self.x     = x\n",
    "        self.y     = y\n",
    "        \n",
    "        \n",
    "    def get_beta01(self, x, y):\n",
    "        \"\"\"Handler that extracts the values for beta0 and beta1\"\"\"\n",
    "        if len(x) == len(y):\n",
    "            xy      = 0\n",
    "            sum_x   = 0\n",
    "            sum_y   = 0\n",
    "            sum_xx  = 0\n",
    "            sum_xxy = 0\n",
    "            \n",
    "            \n",
    "            for i in range(len(x)):\n",
    "                xy      = xy + float(x[i])*float(y[i])\n",
    "                sum_x   = sum_x + float(x[i])\n",
    "                sum_y   = sum_y + float(y[i])\n",
    "                sum_xx  = sum_xx + float(x[i])**2\n",
    "                sum_xxy = sum_xxy + ((float(x[i])**2)*float(y[i]))\n",
    "                \n",
    "                \n",
    "            tempB1 = ((len(x)*xy) - (sum_x * sum_y)) / ((len(x)*(sum_xx)) - (sum_x)**2)\n",
    "            tempB0 = (sum_y/len(x))-(tempB1 * (sum_x/len(x)))\n",
    "            return tempB0, tempB1, sum_y\n",
    "        \n",
    "        \n",
    "    def predict(self, val):\n",
    "        \"\"\"Returns the predicted value of the parameter given in the function\"\"\"\n",
    "        return (self.beta0) + float(self.beta1)*float(val)\n",
    "        \n",
    "    \n",
    "    \n",
    "    def predictN(self, vals):\n",
    "        \"\"\"Returns the predicted values of the parameter list given in the function\"\"\"\n",
    "        y = []\n",
    "        for i in vals:\n",
    "            temp = (self.beta0) + float(self.beta1)*float(i)\n",
    "            y.append(temp)\n",
    "        return y\n",
    "\n",
    "    \n",
    "    \n",
    "    def r2(self):\n",
    "        \"\"\"Handle that given the r2\"\"\"\n",
    "        sy_c = 0\n",
    "        sy   = 0\n",
    "        \n",
    "        for i in self.x:\n",
    "            sy_c = sy_c + (self.predict(i) - (float(self.sum_y)/len(self.x) ))**2\n",
    "        \n",
    "        for i in self.y:\n",
    "            sy   = sy + (float(i) - (float(self.sum_y)/len(self.x)))**2\n",
    "        \n",
    "        return (sy_c/(len(self.x) -1)) / (sy/(len(self.x) -1))\n",
    "    \n",
    "    \n",
    "    def r(self):\n",
    "        \"\"\"Handle that given the r\"\"\"\n",
    "        return (self.r2())**(1/2)\n",
    "    \n",
    "    \n",
    "    def getAllParams(self):\n",
    "        \"\"\"Handle that given all params\"\"\"\n",
    "        return {'b0': self.beta0, 'b1': self.beta1, 'r2': self.r2(), 'r': self.r()}\n",
    "    \n",
    "    \n",
    "    @classmethod\n",
    "    def from_file(cls, fileName):\n",
    "        \"\"\"Constructor where csv file is read,\n",
    "        and the list of X and Y values are extracted\"\"\"\n",
    "        dataX = []\n",
    "        dataY = []\n",
    "        with open(fileName) as values:\n",
    "            for value in values:\n",
    "                temp = value.split(',')\n",
    "                if temp[0] != 'Y' and temp[1] != 'X':\n",
    "                    dataY.append(temp[0])\n",
    "                    dataX.append(temp[1].split('\\n')[0])\n",
    "        return cls(dataX, dataY)"
   ]
  },
  {
   "cell_type": "code",
   "execution_count": 181,
   "metadata": {},
   "outputs": [
    {
     "data": {
      "text/plain": [
       "{'b0': 7.032593549127711,\n",
       " 'b1': 0.04753664043301965,\n",
       " 'r2': 0.6118750508500689,\n",
       " 'r': 0.7822244248616051}"
      ]
     },
     "execution_count": 181,
     "metadata": {},
     "output_type": "execute_result"
    }
   ],
   "source": [
    "regression = my_regresion.from_file('Advertising.csv')\n",
    "\n",
    "regression.getAllParams()"
   ]
  },
  {
   "cell_type": "code",
   "execution_count": 176,
   "metadata": {},
   "outputs": [
    {
     "data": {
      "text/plain": [
       "['warning: LF will be replaced by CRLF in .ipynb_checkpoints/Advertising-checkpoint.csv.',\n",
       " 'The file will have its original line endings in your working directory',\n",
       " 'warning: LF will be replaced by CRLF in .ipynb_checkpoints/lab-poo-checkpoint.ipynb.',\n",
       " 'The file will have its original line endings in your working directory',\n",
       " 'warning: LF will be replaced by CRLF in .ipynb_checkpoints/prueba2-checkpoint.csv.',\n",
       " 'The file will have its original line endings in your working directory',\n",
       " 'warning: LF will be replaced by CRLF in Advertising.csv.',\n",
       " 'The file will have its original line endings in your working directory',\n",
       " 'warning: LF will be replaced by CRLF in lab-poo.ipynb.',\n",
       " 'The file will have its original line endings in your working directory',\n",
       " 'warning: LF will be replaced by CRLF in prueba.csv.',\n",
       " 'The file will have its original line endings in your working directory',\n",
       " 'warning: LF will be replaced by CRLF in prueba2.csv.',\n",
       " 'The file will have its original line endings in your working directory']"
      ]
     },
     "execution_count": 176,
     "metadata": {},
     "output_type": "execute_result"
    }
   ],
   "source": [
    "%%!\n",
    "git add ."
   ]
  },
  {
   "cell_type": "code",
   "execution_count": 177,
   "metadata": {},
   "outputs": [
    {
     "data": {
      "text/plain": [
       "['[master (root-commit) fd7a5ac] almost finished the lab3',\n",
       " ' 8 files changed, 824 insertions(+)',\n",
       " ' create mode 100644 .ipynb_checkpoints/Advertising-checkpoint.csv',\n",
       " ' create mode 100644 .ipynb_checkpoints/lab-poo-checkpoint.ipynb',\n",
       " ' create mode 100644 .ipynb_checkpoints/prueba-checkpoint.csv',\n",
       " ' create mode 100644 .ipynb_checkpoints/prueba2-checkpoint.csv',\n",
       " ' create mode 100644 Advertising.csv',\n",
       " ' create mode 100644 lab-poo.ipynb',\n",
       " ' create mode 100644 prueba.csv',\n",
       " ' create mode 100644 prueba2.csv']"
      ]
     },
     "execution_count": 177,
     "metadata": {},
     "output_type": "execute_result"
    }
   ],
   "source": [
    "%%!\n",
    "git commit -m \"almost finished the lab3\""
   ]
  },
  {
   "cell_type": "code",
   "execution_count": 178,
   "metadata": {},
   "outputs": [
    {
     "data": {
      "text/plain": [
       "[]"
      ]
     },
     "execution_count": 178,
     "metadata": {},
     "output_type": "execute_result"
    }
   ],
   "source": [
    "%%!\n",
    "git remote add origin https://github.com/hdtahay99/lab3-poo-jupyter.git"
   ]
  },
  {
   "cell_type": "code",
   "execution_count": 179,
   "metadata": {},
   "outputs": [
    {
     "data": {
      "text/plain": [
       "[\"Branch 'master' set up to track remote branch 'master' from 'origin'.\",\n",
       " 'To https://github.com/hdtahay99/lab3-poo-jupyter.git',\n",
       " ' * [new branch]      master -> master']"
      ]
     },
     "execution_count": 179,
     "metadata": {},
     "output_type": "execute_result"
    }
   ],
   "source": [
    "%%!\n",
    "git push -u origin master"
   ]
  },
  {
   "cell_type": "code",
   "execution_count": null,
   "metadata": {},
   "outputs": [],
   "source": []
  }
 ],
 "metadata": {
  "kernelspec": {
   "display_name": "Python 3",
   "language": "python",
   "name": "python3"
  },
  "language_info": {
   "codemirror_mode": {
    "name": "ipython",
    "version": 3
   },
   "file_extension": ".py",
   "mimetype": "text/x-python",
   "name": "python",
   "nbconvert_exporter": "python",
   "pygments_lexer": "ipython3",
   "version": "3.8.5"
  }
 },
 "nbformat": 4,
 "nbformat_minor": 4
}
